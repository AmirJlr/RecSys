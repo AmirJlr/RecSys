{
  "nbformat": 4,
  "nbformat_minor": 0,
  "metadata": {
    "colab": {
      "provenance": [],
      "gpuType": "T4",
      "authorship_tag": "ABX9TyPWIPXLlTC5WZH9pZmDRLFs",
      "include_colab_link": true
    },
    "kernelspec": {
      "name": "python3",
      "display_name": "Python 3"
    },
    "language_info": {
      "name": "python"
    },
    "accelerator": "GPU"
  },
  "cells": [
    {
      "cell_type": "markdown",
      "metadata": {
        "id": "view-in-github",
        "colab_type": "text"
      },
      "source": [
        "<a href=\"https://colab.research.google.com/github/AmirJlr/RecSys/blob/master/01_Basic_Movie_Retrieval_with_TensorFlow_Recommenders.ipynb\" target=\"_parent\"><img src=\"https://colab.research.google.com/assets/colab-badge.svg\" alt=\"Open In Colab\"/></a>"
      ]
    },
    {
      "cell_type": "markdown",
      "source": [
        "# This tutorial will cover:\n",
        "### This is a retrieval model. Its goal is to find a set of relevant movies from a large catalog for a given user. We won't be predicting exact ratings\n",
        "\n",
        "\n",
        "1. Setting up: Installing necessary libraries.\n",
        "2. Data: Using the MovieLens 100K dataset.\n",
        "3. Preprocessing: Preparing the data for TFRS.\n",
        "4. Model Building: Creating a \"Two-Tower\" retrieval model.\n",
        "- - Query Tower (for users)\n",
        "- - Candidate Tower (for movies)\n",
        "5. Training: Training the model.\n",
        "6. Evaluation: Checking how well our model performs.\n",
        "7. Making Recommendations: Getting top movie suggestions for a user.\n",
        "\n",
        "\n"
      ],
      "metadata": {
        "id": "lRnd9r72NuW8"
      }
    },
    {
      "cell_type": "markdown",
      "source": [
        "## 1. Setup"
      ],
      "metadata": {
        "id": "Ac8xI_Q9OoXe"
      }
    },
    {
      "cell_type": "code",
      "source": [
        "import os\n",
        "os.environ['TF_USE_LEGACY_KERAS'] = '1'"
      ],
      "metadata": {
        "id": "3Amla80OJj8-"
      },
      "execution_count": 1,
      "outputs": []
    },
    {
      "cell_type": "code",
      "execution_count": 2,
      "metadata": {
        "id": "da7ECeZIAFMz"
      },
      "outputs": [],
      "source": [
        "!pip install -q tensorflow tensorflow-recommenders tensorflow-datasets"
      ]
    },
    {
      "cell_type": "code",
      "source": [
        "import os\n",
        "import pprint\n",
        "import tempfile\n",
        "\n",
        "import numpy as np\n",
        "import tensorflow as tf\n",
        "import tensorflow_datasets as tfds\n",
        "import tensorflow_recommenders as tfrs\n",
        "\n",
        "print(f\"TensorFlow version: {tf.__version__}\")\n",
        "print(f\"TensorFlow Recommenders version: {tfrs.__version__}\")"
      ],
      "metadata": {
        "colab": {
          "base_uri": "https://localhost:8080/"
        },
        "id": "ZbKQ8_WPAfe0",
        "outputId": "0d4e0c09-e4cc-44be-fcac-ad7e1f915c56"
      },
      "execution_count": 3,
      "outputs": [
        {
          "output_type": "stream",
          "name": "stdout",
          "text": [
            "TensorFlow version: 2.18.0\n",
            "TensorFlow Recommenders version: v0.7.3\n"
          ]
        }
      ]
    },
    {
      "cell_type": "markdown",
      "source": [
        "## 2. Data: MovieLens 100K\n",
        "We'll use the MovieLens 100K dataset, which contains 100,000 ratings from 943 users on 1682 movies."
      ],
      "metadata": {
        "id": "Dq0VRGQCOuMa"
      }
    },
    {
      "cell_type": "code",
      "source": [
        "# Load the ratings data\n",
        "ratings_ds = tfds.load(\"movielens/100k-ratings\", split=\"train\")\n",
        "\n",
        "# Load the movies data to get movie titles\n",
        "movies_ds = tfds.load(\"movielens/100k-movies\", split=\"train\")"
      ],
      "metadata": {
        "id": "ciklyNCuAj-I"
      },
      "execution_count": 4,
      "outputs": []
    },
    {
      "cell_type": "code",
      "source": [
        "# Look at a few examples\n",
        "tfds.as_dataframe(ratings_ds.take(3))"
      ],
      "metadata": {
        "colab": {
          "base_uri": "https://localhost:8080/",
          "height": 104
        },
        "id": "uwbMn-7tAwF3",
        "outputId": "f2754d6a-300b-40ec-b8c3-7dc046c621b2"
      },
      "execution_count": 5,
      "outputs": [
        {
          "output_type": "execute_result",
          "data": {
            "text/plain": [
              "   bucketized_user_age movie_genres movie_id  \\\n",
              "0                 45.0          [7]   b'357'   \n",
              "1                 25.0      [4, 14]   b'709'   \n",
              "2                 18.0          [4]   b'412'   \n",
              "\n",
              "                                 movie_title  raw_user_age  timestamp  \\\n",
              "0  b\"One Flew Over the Cuckoo's Nest (1975)\"          46.0  879024327   \n",
              "1                b'Strictly Ballroom (1992)'          32.0  875654590   \n",
              "2             b'Very Brady Sequel, A (1996)'          24.0  882075110   \n",
              "\n",
              "   user_gender user_id  user_occupation_label user_occupation_text  \\\n",
              "0         True  b'138'                      4            b'doctor'   \n",
              "1         True   b'92'                      5     b'entertainment'   \n",
              "2         True  b'301'                     17           b'student'   \n",
              "\n",
              "   user_rating user_zip_code  \n",
              "0          4.0      b'53211'  \n",
              "1          2.0      b'80525'  \n",
              "2          4.0      b'55439'  "
            ],
            "text/html": [
              "\n",
              "  <div id=\"df-c3a66484-3ce8-4ac6-a7d7-360113c3d19b\" class=\"colab-df-container\">\n",
              "    <style type=\"text/css\">\n",
              "</style>\n",
              "<table id=\"T_a87db\">\n",
              "  <thead>\n",
              "    <tr>\n",
              "      <th class=\"blank level0\" >&nbsp;</th>\n",
              "      <th id=\"T_a87db_level0_col0\" class=\"col_heading level0 col0\" >bucketized_user_age</th>\n",
              "      <th id=\"T_a87db_level0_col1\" class=\"col_heading level0 col1\" >movie_genres</th>\n",
              "      <th id=\"T_a87db_level0_col2\" class=\"col_heading level0 col2\" >movie_id</th>\n",
              "      <th id=\"T_a87db_level0_col3\" class=\"col_heading level0 col3\" >movie_title</th>\n",
              "      <th id=\"T_a87db_level0_col4\" class=\"col_heading level0 col4\" >raw_user_age</th>\n",
              "      <th id=\"T_a87db_level0_col5\" class=\"col_heading level0 col5\" >timestamp</th>\n",
              "      <th id=\"T_a87db_level0_col6\" class=\"col_heading level0 col6\" >user_gender</th>\n",
              "      <th id=\"T_a87db_level0_col7\" class=\"col_heading level0 col7\" >user_id</th>\n",
              "      <th id=\"T_a87db_level0_col8\" class=\"col_heading level0 col8\" >user_occupation_label</th>\n",
              "      <th id=\"T_a87db_level0_col9\" class=\"col_heading level0 col9\" >user_occupation_text</th>\n",
              "      <th id=\"T_a87db_level0_col10\" class=\"col_heading level0 col10\" >user_rating</th>\n",
              "      <th id=\"T_a87db_level0_col11\" class=\"col_heading level0 col11\" >user_zip_code</th>\n",
              "    </tr>\n",
              "  </thead>\n",
              "  <tbody>\n",
              "    <tr>\n",
              "      <th id=\"T_a87db_level0_row0\" class=\"row_heading level0 row0\" >0</th>\n",
              "      <td id=\"T_a87db_row0_col0\" class=\"data row0 col0\" >45.000000</td>\n",
              "      <td id=\"T_a87db_row0_col1\" class=\"data row0 col1\" >[7]</td>\n",
              "      <td id=\"T_a87db_row0_col2\" class=\"data row0 col2\" >b'357'</td>\n",
              "      <td id=\"T_a87db_row0_col3\" class=\"data row0 col3\" >b\"One Flew Over the Cuckoo's Nest (1975)\"</td>\n",
              "      <td id=\"T_a87db_row0_col4\" class=\"data row0 col4\" >46.000000</td>\n",
              "      <td id=\"T_a87db_row0_col5\" class=\"data row0 col5\" >879024327</td>\n",
              "      <td id=\"T_a87db_row0_col6\" class=\"data row0 col6\" >True</td>\n",
              "      <td id=\"T_a87db_row0_col7\" class=\"data row0 col7\" >b'138'</td>\n",
              "      <td id=\"T_a87db_row0_col8\" class=\"data row0 col8\" >4</td>\n",
              "      <td id=\"T_a87db_row0_col9\" class=\"data row0 col9\" >b'doctor'</td>\n",
              "      <td id=\"T_a87db_row0_col10\" class=\"data row0 col10\" >4.000000</td>\n",
              "      <td id=\"T_a87db_row0_col11\" class=\"data row0 col11\" >b'53211'</td>\n",
              "    </tr>\n",
              "    <tr>\n",
              "      <th id=\"T_a87db_level0_row1\" class=\"row_heading level0 row1\" >1</th>\n",
              "      <td id=\"T_a87db_row1_col0\" class=\"data row1 col0\" >25.000000</td>\n",
              "      <td id=\"T_a87db_row1_col1\" class=\"data row1 col1\" >[ 4 14]</td>\n",
              "      <td id=\"T_a87db_row1_col2\" class=\"data row1 col2\" >b'709'</td>\n",
              "      <td id=\"T_a87db_row1_col3\" class=\"data row1 col3\" >b'Strictly Ballroom (1992)'</td>\n",
              "      <td id=\"T_a87db_row1_col4\" class=\"data row1 col4\" >32.000000</td>\n",
              "      <td id=\"T_a87db_row1_col5\" class=\"data row1 col5\" >875654590</td>\n",
              "      <td id=\"T_a87db_row1_col6\" class=\"data row1 col6\" >True</td>\n",
              "      <td id=\"T_a87db_row1_col7\" class=\"data row1 col7\" >b'92'</td>\n",
              "      <td id=\"T_a87db_row1_col8\" class=\"data row1 col8\" >5</td>\n",
              "      <td id=\"T_a87db_row1_col9\" class=\"data row1 col9\" >b'entertainment'</td>\n",
              "      <td id=\"T_a87db_row1_col10\" class=\"data row1 col10\" >2.000000</td>\n",
              "      <td id=\"T_a87db_row1_col11\" class=\"data row1 col11\" >b'80525'</td>\n",
              "    </tr>\n",
              "    <tr>\n",
              "      <th id=\"T_a87db_level0_row2\" class=\"row_heading level0 row2\" >2</th>\n",
              "      <td id=\"T_a87db_row2_col0\" class=\"data row2 col0\" >18.000000</td>\n",
              "      <td id=\"T_a87db_row2_col1\" class=\"data row2 col1\" >[4]</td>\n",
              "      <td id=\"T_a87db_row2_col2\" class=\"data row2 col2\" >b'412'</td>\n",
              "      <td id=\"T_a87db_row2_col3\" class=\"data row2 col3\" >b'Very Brady Sequel, A (1996)'</td>\n",
              "      <td id=\"T_a87db_row2_col4\" class=\"data row2 col4\" >24.000000</td>\n",
              "      <td id=\"T_a87db_row2_col5\" class=\"data row2 col5\" >882075110</td>\n",
              "      <td id=\"T_a87db_row2_col6\" class=\"data row2 col6\" >True</td>\n",
              "      <td id=\"T_a87db_row2_col7\" class=\"data row2 col7\" >b'301'</td>\n",
              "      <td id=\"T_a87db_row2_col8\" class=\"data row2 col8\" >17</td>\n",
              "      <td id=\"T_a87db_row2_col9\" class=\"data row2 col9\" >b'student'</td>\n",
              "      <td id=\"T_a87db_row2_col10\" class=\"data row2 col10\" >4.000000</td>\n",
              "      <td id=\"T_a87db_row2_col11\" class=\"data row2 col11\" >b'55439'</td>\n",
              "    </tr>\n",
              "  </tbody>\n",
              "</table>\n",
              "\n",
              "    <div class=\"colab-df-buttons\">\n",
              "\n",
              "  <div class=\"colab-df-container\">\n",
              "    <button class=\"colab-df-convert\" onclick=\"convertToInteractive('df-c3a66484-3ce8-4ac6-a7d7-360113c3d19b')\"\n",
              "            title=\"Convert this dataframe to an interactive table.\"\n",
              "            style=\"display:none;\">\n",
              "\n",
              "  <svg xmlns=\"http://www.w3.org/2000/svg\" height=\"24px\" viewBox=\"0 -960 960 960\">\n",
              "    <path d=\"M120-120v-720h720v720H120Zm60-500h600v-160H180v160Zm220 220h160v-160H400v160Zm0 220h160v-160H400v160ZM180-400h160v-160H180v160Zm440 0h160v-160H620v160ZM180-180h160v-160H180v160Zm440 0h160v-160H620v160Z\"/>\n",
              "  </svg>\n",
              "    </button>\n",
              "\n",
              "  <style>\n",
              "    .colab-df-container {\n",
              "      display:flex;\n",
              "      gap: 12px;\n",
              "    }\n",
              "\n",
              "    .colab-df-convert {\n",
              "      background-color: #E8F0FE;\n",
              "      border: none;\n",
              "      border-radius: 50%;\n",
              "      cursor: pointer;\n",
              "      display: none;\n",
              "      fill: #1967D2;\n",
              "      height: 32px;\n",
              "      padding: 0 0 0 0;\n",
              "      width: 32px;\n",
              "    }\n",
              "\n",
              "    .colab-df-convert:hover {\n",
              "      background-color: #E2EBFA;\n",
              "      box-shadow: 0px 1px 2px rgba(60, 64, 67, 0.3), 0px 1px 3px 1px rgba(60, 64, 67, 0.15);\n",
              "      fill: #174EA6;\n",
              "    }\n",
              "\n",
              "    .colab-df-buttons div {\n",
              "      margin-bottom: 4px;\n",
              "    }\n",
              "\n",
              "    [theme=dark] .colab-df-convert {\n",
              "      background-color: #3B4455;\n",
              "      fill: #D2E3FC;\n",
              "    }\n",
              "\n",
              "    [theme=dark] .colab-df-convert:hover {\n",
              "      background-color: #434B5C;\n",
              "      box-shadow: 0px 1px 3px 1px rgba(0, 0, 0, 0.15);\n",
              "      filter: drop-shadow(0px 1px 2px rgba(0, 0, 0, 0.3));\n",
              "      fill: #FFFFFF;\n",
              "    }\n",
              "  </style>\n",
              "\n",
              "    <script>\n",
              "      const buttonEl =\n",
              "        document.querySelector('#df-c3a66484-3ce8-4ac6-a7d7-360113c3d19b button.colab-df-convert');\n",
              "      buttonEl.style.display =\n",
              "        google.colab.kernel.accessAllowed ? 'block' : 'none';\n",
              "\n",
              "      async function convertToInteractive(key) {\n",
              "        const element = document.querySelector('#df-c3a66484-3ce8-4ac6-a7d7-360113c3d19b');\n",
              "        const dataTable =\n",
              "          await google.colab.kernel.invokeFunction('convertToInteractive',\n",
              "                                                    [key], {});\n",
              "        if (!dataTable) return;\n",
              "\n",
              "        const docLinkHtml = 'Like what you see? Visit the ' +\n",
              "          '<a target=\"_blank\" href=https://colab.research.google.com/notebooks/data_table.ipynb>data table notebook</a>'\n",
              "          + ' to learn more about interactive tables.';\n",
              "        element.innerHTML = '';\n",
              "        dataTable['output_type'] = 'display_data';\n",
              "        await google.colab.output.renderOutput(dataTable, element);\n",
              "        const docLink = document.createElement('div');\n",
              "        docLink.innerHTML = docLinkHtml;\n",
              "        element.appendChild(docLink);\n",
              "      }\n",
              "    </script>\n",
              "  </div>\n",
              "\n",
              "\n",
              "    <div id=\"df-350638b9-c2f6-4071-8991-4ed150e075a0\">\n",
              "      <button class=\"colab-df-quickchart\" onclick=\"quickchart('df-350638b9-c2f6-4071-8991-4ed150e075a0')\"\n",
              "                title=\"Suggest charts\"\n",
              "                style=\"display:none;\">\n",
              "\n",
              "<svg xmlns=\"http://www.w3.org/2000/svg\" height=\"24px\"viewBox=\"0 0 24 24\"\n",
              "     width=\"24px\">\n",
              "    <g>\n",
              "        <path d=\"M19 3H5c-1.1 0-2 .9-2 2v14c0 1.1.9 2 2 2h14c1.1 0 2-.9 2-2V5c0-1.1-.9-2-2-2zM9 17H7v-7h2v7zm4 0h-2V7h2v10zm4 0h-2v-4h2v4z\"/>\n",
              "    </g>\n",
              "</svg>\n",
              "      </button>\n",
              "\n",
              "<style>\n",
              "  .colab-df-quickchart {\n",
              "      --bg-color: #E8F0FE;\n",
              "      --fill-color: #1967D2;\n",
              "      --hover-bg-color: #E2EBFA;\n",
              "      --hover-fill-color: #174EA6;\n",
              "      --disabled-fill-color: #AAA;\n",
              "      --disabled-bg-color: #DDD;\n",
              "  }\n",
              "\n",
              "  [theme=dark] .colab-df-quickchart {\n",
              "      --bg-color: #3B4455;\n",
              "      --fill-color: #D2E3FC;\n",
              "      --hover-bg-color: #434B5C;\n",
              "      --hover-fill-color: #FFFFFF;\n",
              "      --disabled-bg-color: #3B4455;\n",
              "      --disabled-fill-color: #666;\n",
              "  }\n",
              "\n",
              "  .colab-df-quickchart {\n",
              "    background-color: var(--bg-color);\n",
              "    border: none;\n",
              "    border-radius: 50%;\n",
              "    cursor: pointer;\n",
              "    display: none;\n",
              "    fill: var(--fill-color);\n",
              "    height: 32px;\n",
              "    padding: 0;\n",
              "    width: 32px;\n",
              "  }\n",
              "\n",
              "  .colab-df-quickchart:hover {\n",
              "    background-color: var(--hover-bg-color);\n",
              "    box-shadow: 0 1px 2px rgba(60, 64, 67, 0.3), 0 1px 3px 1px rgba(60, 64, 67, 0.15);\n",
              "    fill: var(--button-hover-fill-color);\n",
              "  }\n",
              "\n",
              "  .colab-df-quickchart-complete:disabled,\n",
              "  .colab-df-quickchart-complete:disabled:hover {\n",
              "    background-color: var(--disabled-bg-color);\n",
              "    fill: var(--disabled-fill-color);\n",
              "    box-shadow: none;\n",
              "  }\n",
              "\n",
              "  .colab-df-spinner {\n",
              "    border: 2px solid var(--fill-color);\n",
              "    border-color: transparent;\n",
              "    border-bottom-color: var(--fill-color);\n",
              "    animation:\n",
              "      spin 1s steps(1) infinite;\n",
              "  }\n",
              "\n",
              "  @keyframes spin {\n",
              "    0% {\n",
              "      border-color: transparent;\n",
              "      border-bottom-color: var(--fill-color);\n",
              "      border-left-color: var(--fill-color);\n",
              "    }\n",
              "    20% {\n",
              "      border-color: transparent;\n",
              "      border-left-color: var(--fill-color);\n",
              "      border-top-color: var(--fill-color);\n",
              "    }\n",
              "    30% {\n",
              "      border-color: transparent;\n",
              "      border-left-color: var(--fill-color);\n",
              "      border-top-color: var(--fill-color);\n",
              "      border-right-color: var(--fill-color);\n",
              "    }\n",
              "    40% {\n",
              "      border-color: transparent;\n",
              "      border-right-color: var(--fill-color);\n",
              "      border-top-color: var(--fill-color);\n",
              "    }\n",
              "    60% {\n",
              "      border-color: transparent;\n",
              "      border-right-color: var(--fill-color);\n",
              "    }\n",
              "    80% {\n",
              "      border-color: transparent;\n",
              "      border-right-color: var(--fill-color);\n",
              "      border-bottom-color: var(--fill-color);\n",
              "    }\n",
              "    90% {\n",
              "      border-color: transparent;\n",
              "      border-bottom-color: var(--fill-color);\n",
              "    }\n",
              "  }\n",
              "</style>\n",
              "\n",
              "      <script>\n",
              "        async function quickchart(key) {\n",
              "          const quickchartButtonEl =\n",
              "            document.querySelector('#' + key + ' button');\n",
              "          quickchartButtonEl.disabled = true;  // To prevent multiple clicks.\n",
              "          quickchartButtonEl.classList.add('colab-df-spinner');\n",
              "          try {\n",
              "            const charts = await google.colab.kernel.invokeFunction(\n",
              "                'suggestCharts', [key], {});\n",
              "          } catch (error) {\n",
              "            console.error('Error during call to suggestCharts:', error);\n",
              "          }\n",
              "          quickchartButtonEl.classList.remove('colab-df-spinner');\n",
              "          quickchartButtonEl.classList.add('colab-df-quickchart-complete');\n",
              "        }\n",
              "        (() => {\n",
              "          let quickchartButtonEl =\n",
              "            document.querySelector('#df-350638b9-c2f6-4071-8991-4ed150e075a0 button');\n",
              "          quickchartButtonEl.style.display =\n",
              "            google.colab.kernel.accessAllowed ? 'block' : 'none';\n",
              "        })();\n",
              "      </script>\n",
              "    </div>\n",
              "\n",
              "    </div>\n",
              "  </div>\n"
            ],
            "application/vnd.google.colaboratory.intrinsic+json": {
              "type": "dataframe",
              "summary": "{\n  \"name\": \"tfds\",\n  \"rows\": 3,\n  \"fields\": [\n    {\n      \"column\": \"bucketized_user_age\",\n      \"properties\": {\n        \"dtype\": \"float32\",\n        \"num_unique_values\": 3,\n        \"samples\": [\n          45.0,\n          25.0,\n          18.0\n        ],\n        \"semantic_type\": \"\",\n        \"description\": \"\"\n      }\n    },\n    {\n      \"column\": \"movie_genres\",\n      \"properties\": {\n        \"dtype\": \"object\",\n        \"semantic_type\": \"\",\n        \"description\": \"\"\n      }\n    },\n    {\n      \"column\": \"movie_id\",\n      \"properties\": {\n        \"dtype\": \"string\",\n        \"num_unique_values\": 3,\n        \"samples\": [\n          \"b'357'\",\n          \"b'709'\",\n          \"b'412'\"\n        ],\n        \"semantic_type\": \"\",\n        \"description\": \"\"\n      }\n    },\n    {\n      \"column\": \"movie_title\",\n      \"properties\": {\n        \"dtype\": \"string\",\n        \"num_unique_values\": 3,\n        \"samples\": [\n          \"b\\\"One Flew Over the Cuckoo's Nest (1975)\\\"\",\n          \"b'Strictly Ballroom (1992)'\",\n          \"b'Very Brady Sequel, A (1996)'\"\n        ],\n        \"semantic_type\": \"\",\n        \"description\": \"\"\n      }\n    },\n    {\n      \"column\": \"raw_user_age\",\n      \"properties\": {\n        \"dtype\": \"float32\",\n        \"num_unique_values\": 3,\n        \"samples\": [\n          46.0,\n          32.0,\n          24.0\n        ],\n        \"semantic_type\": \"\",\n        \"description\": \"\"\n      }\n    },\n    {\n      \"column\": \"timestamp\",\n      \"properties\": {\n        \"dtype\": \"number\",\n        \"std\": 3211580,\n        \"min\": 875654590,\n        \"max\": 882075110,\n        \"num_unique_values\": 3,\n        \"samples\": [\n          879024327,\n          875654590,\n          882075110\n        ],\n        \"semantic_type\": \"\",\n        \"description\": \"\"\n      }\n    },\n    {\n      \"column\": \"user_gender\",\n      \"properties\": {\n        \"dtype\": \"boolean\",\n        \"num_unique_values\": 1,\n        \"samples\": [\n          true\n        ],\n        \"semantic_type\": \"\",\n        \"description\": \"\"\n      }\n    },\n    {\n      \"column\": \"user_id\",\n      \"properties\": {\n        \"dtype\": \"string\",\n        \"num_unique_values\": 3,\n        \"samples\": [\n          \"b'138'\"\n        ],\n        \"semantic_type\": \"\",\n        \"description\": \"\"\n      }\n    },\n    {\n      \"column\": \"user_occupation_label\",\n      \"properties\": {\n        \"dtype\": \"number\",\n        \"std\": 7,\n        \"min\": 4,\n        \"max\": 17,\n        \"num_unique_values\": 3,\n        \"samples\": [\n          4\n        ],\n        \"semantic_type\": \"\",\n        \"description\": \"\"\n      }\n    },\n    {\n      \"column\": \"user_occupation_text\",\n      \"properties\": {\n        \"dtype\": \"string\",\n        \"num_unique_values\": 3,\n        \"samples\": [\n          \"b'doctor'\"\n        ],\n        \"semantic_type\": \"\",\n        \"description\": \"\"\n      }\n    },\n    {\n      \"column\": \"user_rating\",\n      \"properties\": {\n        \"dtype\": \"float32\",\n        \"num_unique_values\": 2,\n        \"samples\": [\n          2.0\n        ],\n        \"semantic_type\": \"\",\n        \"description\": \"\"\n      }\n    },\n    {\n      \"column\": \"user_zip_code\",\n      \"properties\": {\n        \"dtype\": \"string\",\n        \"num_unique_values\": 3,\n        \"samples\": [\n          \"b'53211'\"\n        ],\n        \"semantic_type\": \"\",\n        \"description\": \"\"\n      }\n    }\n  ]\n}"
            }
          },
          "metadata": {},
          "execution_count": 5
        }
      ]
    },
    {
      "cell_type": "code",
      "source": [
        "# Look at a few examples\n",
        "tfds.as_dataframe(movies_ds.take(3))"
      ],
      "metadata": {
        "colab": {
          "base_uri": "https://localhost:8080/",
          "height": 104
        },
        "id": "kYr7m-epA4HE",
        "outputId": "358a21f8-a4c3-4b98-c1d4-adeb7da8ba63"
      },
      "execution_count": 6,
      "outputs": [
        {
          "output_type": "execute_result",
          "data": {
            "text/plain": [
              "  movie_genres movie_id                     movie_title\n",
              "0          [4]  b'1681'          b'You So Crazy (1994)'\n",
              "1       [4, 7]  b'1457'  b'Love Is All There Is (1996)'\n",
              "2       [1, 3]   b'500'         b'Fly Away Home (1996)'"
            ],
            "text/html": [
              "\n",
              "  <div id=\"df-4603dbaa-859b-4a46-b543-321e75cb2aad\" class=\"colab-df-container\">\n",
              "    <style type=\"text/css\">\n",
              "</style>\n",
              "<table id=\"T_aa62e\">\n",
              "  <thead>\n",
              "    <tr>\n",
              "      <th class=\"blank level0\" >&nbsp;</th>\n",
              "      <th id=\"T_aa62e_level0_col0\" class=\"col_heading level0 col0\" >movie_genres</th>\n",
              "      <th id=\"T_aa62e_level0_col1\" class=\"col_heading level0 col1\" >movie_id</th>\n",
              "      <th id=\"T_aa62e_level0_col2\" class=\"col_heading level0 col2\" >movie_title</th>\n",
              "    </tr>\n",
              "  </thead>\n",
              "  <tbody>\n",
              "    <tr>\n",
              "      <th id=\"T_aa62e_level0_row0\" class=\"row_heading level0 row0\" >0</th>\n",
              "      <td id=\"T_aa62e_row0_col0\" class=\"data row0 col0\" >[4]</td>\n",
              "      <td id=\"T_aa62e_row0_col1\" class=\"data row0 col1\" >b'1681'</td>\n",
              "      <td id=\"T_aa62e_row0_col2\" class=\"data row0 col2\" >b'You So Crazy (1994)'</td>\n",
              "    </tr>\n",
              "    <tr>\n",
              "      <th id=\"T_aa62e_level0_row1\" class=\"row_heading level0 row1\" >1</th>\n",
              "      <td id=\"T_aa62e_row1_col0\" class=\"data row1 col0\" >[4 7]</td>\n",
              "      <td id=\"T_aa62e_row1_col1\" class=\"data row1 col1\" >b'1457'</td>\n",
              "      <td id=\"T_aa62e_row1_col2\" class=\"data row1 col2\" >b'Love Is All There Is (1996)'</td>\n",
              "    </tr>\n",
              "    <tr>\n",
              "      <th id=\"T_aa62e_level0_row2\" class=\"row_heading level0 row2\" >2</th>\n",
              "      <td id=\"T_aa62e_row2_col0\" class=\"data row2 col0\" >[1 3]</td>\n",
              "      <td id=\"T_aa62e_row2_col1\" class=\"data row2 col1\" >b'500'</td>\n",
              "      <td id=\"T_aa62e_row2_col2\" class=\"data row2 col2\" >b'Fly Away Home (1996)'</td>\n",
              "    </tr>\n",
              "  </tbody>\n",
              "</table>\n",
              "\n",
              "    <div class=\"colab-df-buttons\">\n",
              "\n",
              "  <div class=\"colab-df-container\">\n",
              "    <button class=\"colab-df-convert\" onclick=\"convertToInteractive('df-4603dbaa-859b-4a46-b543-321e75cb2aad')\"\n",
              "            title=\"Convert this dataframe to an interactive table.\"\n",
              "            style=\"display:none;\">\n",
              "\n",
              "  <svg xmlns=\"http://www.w3.org/2000/svg\" height=\"24px\" viewBox=\"0 -960 960 960\">\n",
              "    <path d=\"M120-120v-720h720v720H120Zm60-500h600v-160H180v160Zm220 220h160v-160H400v160Zm0 220h160v-160H400v160ZM180-400h160v-160H180v160Zm440 0h160v-160H620v160ZM180-180h160v-160H180v160Zm440 0h160v-160H620v160Z\"/>\n",
              "  </svg>\n",
              "    </button>\n",
              "\n",
              "  <style>\n",
              "    .colab-df-container {\n",
              "      display:flex;\n",
              "      gap: 12px;\n",
              "    }\n",
              "\n",
              "    .colab-df-convert {\n",
              "      background-color: #E8F0FE;\n",
              "      border: none;\n",
              "      border-radius: 50%;\n",
              "      cursor: pointer;\n",
              "      display: none;\n",
              "      fill: #1967D2;\n",
              "      height: 32px;\n",
              "      padding: 0 0 0 0;\n",
              "      width: 32px;\n",
              "    }\n",
              "\n",
              "    .colab-df-convert:hover {\n",
              "      background-color: #E2EBFA;\n",
              "      box-shadow: 0px 1px 2px rgba(60, 64, 67, 0.3), 0px 1px 3px 1px rgba(60, 64, 67, 0.15);\n",
              "      fill: #174EA6;\n",
              "    }\n",
              "\n",
              "    .colab-df-buttons div {\n",
              "      margin-bottom: 4px;\n",
              "    }\n",
              "\n",
              "    [theme=dark] .colab-df-convert {\n",
              "      background-color: #3B4455;\n",
              "      fill: #D2E3FC;\n",
              "    }\n",
              "\n",
              "    [theme=dark] .colab-df-convert:hover {\n",
              "      background-color: #434B5C;\n",
              "      box-shadow: 0px 1px 3px 1px rgba(0, 0, 0, 0.15);\n",
              "      filter: drop-shadow(0px 1px 2px rgba(0, 0, 0, 0.3));\n",
              "      fill: #FFFFFF;\n",
              "    }\n",
              "  </style>\n",
              "\n",
              "    <script>\n",
              "      const buttonEl =\n",
              "        document.querySelector('#df-4603dbaa-859b-4a46-b543-321e75cb2aad button.colab-df-convert');\n",
              "      buttonEl.style.display =\n",
              "        google.colab.kernel.accessAllowed ? 'block' : 'none';\n",
              "\n",
              "      async function convertToInteractive(key) {\n",
              "        const element = document.querySelector('#df-4603dbaa-859b-4a46-b543-321e75cb2aad');\n",
              "        const dataTable =\n",
              "          await google.colab.kernel.invokeFunction('convertToInteractive',\n",
              "                                                    [key], {});\n",
              "        if (!dataTable) return;\n",
              "\n",
              "        const docLinkHtml = 'Like what you see? Visit the ' +\n",
              "          '<a target=\"_blank\" href=https://colab.research.google.com/notebooks/data_table.ipynb>data table notebook</a>'\n",
              "          + ' to learn more about interactive tables.';\n",
              "        element.innerHTML = '';\n",
              "        dataTable['output_type'] = 'display_data';\n",
              "        await google.colab.output.renderOutput(dataTable, element);\n",
              "        const docLink = document.createElement('div');\n",
              "        docLink.innerHTML = docLinkHtml;\n",
              "        element.appendChild(docLink);\n",
              "      }\n",
              "    </script>\n",
              "  </div>\n",
              "\n",
              "\n",
              "    <div id=\"df-a3c1e7aa-b1c3-4cb0-9724-b6bef1ece740\">\n",
              "      <button class=\"colab-df-quickchart\" onclick=\"quickchart('df-a3c1e7aa-b1c3-4cb0-9724-b6bef1ece740')\"\n",
              "                title=\"Suggest charts\"\n",
              "                style=\"display:none;\">\n",
              "\n",
              "<svg xmlns=\"http://www.w3.org/2000/svg\" height=\"24px\"viewBox=\"0 0 24 24\"\n",
              "     width=\"24px\">\n",
              "    <g>\n",
              "        <path d=\"M19 3H5c-1.1 0-2 .9-2 2v14c0 1.1.9 2 2 2h14c1.1 0 2-.9 2-2V5c0-1.1-.9-2-2-2zM9 17H7v-7h2v7zm4 0h-2V7h2v10zm4 0h-2v-4h2v4z\"/>\n",
              "    </g>\n",
              "</svg>\n",
              "      </button>\n",
              "\n",
              "<style>\n",
              "  .colab-df-quickchart {\n",
              "      --bg-color: #E8F0FE;\n",
              "      --fill-color: #1967D2;\n",
              "      --hover-bg-color: #E2EBFA;\n",
              "      --hover-fill-color: #174EA6;\n",
              "      --disabled-fill-color: #AAA;\n",
              "      --disabled-bg-color: #DDD;\n",
              "  }\n",
              "\n",
              "  [theme=dark] .colab-df-quickchart {\n",
              "      --bg-color: #3B4455;\n",
              "      --fill-color: #D2E3FC;\n",
              "      --hover-bg-color: #434B5C;\n",
              "      --hover-fill-color: #FFFFFF;\n",
              "      --disabled-bg-color: #3B4455;\n",
              "      --disabled-fill-color: #666;\n",
              "  }\n",
              "\n",
              "  .colab-df-quickchart {\n",
              "    background-color: var(--bg-color);\n",
              "    border: none;\n",
              "    border-radius: 50%;\n",
              "    cursor: pointer;\n",
              "    display: none;\n",
              "    fill: var(--fill-color);\n",
              "    height: 32px;\n",
              "    padding: 0;\n",
              "    width: 32px;\n",
              "  }\n",
              "\n",
              "  .colab-df-quickchart:hover {\n",
              "    background-color: var(--hover-bg-color);\n",
              "    box-shadow: 0 1px 2px rgba(60, 64, 67, 0.3), 0 1px 3px 1px rgba(60, 64, 67, 0.15);\n",
              "    fill: var(--button-hover-fill-color);\n",
              "  }\n",
              "\n",
              "  .colab-df-quickchart-complete:disabled,\n",
              "  .colab-df-quickchart-complete:disabled:hover {\n",
              "    background-color: var(--disabled-bg-color);\n",
              "    fill: var(--disabled-fill-color);\n",
              "    box-shadow: none;\n",
              "  }\n",
              "\n",
              "  .colab-df-spinner {\n",
              "    border: 2px solid var(--fill-color);\n",
              "    border-color: transparent;\n",
              "    border-bottom-color: var(--fill-color);\n",
              "    animation:\n",
              "      spin 1s steps(1) infinite;\n",
              "  }\n",
              "\n",
              "  @keyframes spin {\n",
              "    0% {\n",
              "      border-color: transparent;\n",
              "      border-bottom-color: var(--fill-color);\n",
              "      border-left-color: var(--fill-color);\n",
              "    }\n",
              "    20% {\n",
              "      border-color: transparent;\n",
              "      border-left-color: var(--fill-color);\n",
              "      border-top-color: var(--fill-color);\n",
              "    }\n",
              "    30% {\n",
              "      border-color: transparent;\n",
              "      border-left-color: var(--fill-color);\n",
              "      border-top-color: var(--fill-color);\n",
              "      border-right-color: var(--fill-color);\n",
              "    }\n",
              "    40% {\n",
              "      border-color: transparent;\n",
              "      border-right-color: var(--fill-color);\n",
              "      border-top-color: var(--fill-color);\n",
              "    }\n",
              "    60% {\n",
              "      border-color: transparent;\n",
              "      border-right-color: var(--fill-color);\n",
              "    }\n",
              "    80% {\n",
              "      border-color: transparent;\n",
              "      border-right-color: var(--fill-color);\n",
              "      border-bottom-color: var(--fill-color);\n",
              "    }\n",
              "    90% {\n",
              "      border-color: transparent;\n",
              "      border-bottom-color: var(--fill-color);\n",
              "    }\n",
              "  }\n",
              "</style>\n",
              "\n",
              "      <script>\n",
              "        async function quickchart(key) {\n",
              "          const quickchartButtonEl =\n",
              "            document.querySelector('#' + key + ' button');\n",
              "          quickchartButtonEl.disabled = true;  // To prevent multiple clicks.\n",
              "          quickchartButtonEl.classList.add('colab-df-spinner');\n",
              "          try {\n",
              "            const charts = await google.colab.kernel.invokeFunction(\n",
              "                'suggestCharts', [key], {});\n",
              "          } catch (error) {\n",
              "            console.error('Error during call to suggestCharts:', error);\n",
              "          }\n",
              "          quickchartButtonEl.classList.remove('colab-df-spinner');\n",
              "          quickchartButtonEl.classList.add('colab-df-quickchart-complete');\n",
              "        }\n",
              "        (() => {\n",
              "          let quickchartButtonEl =\n",
              "            document.querySelector('#df-a3c1e7aa-b1c3-4cb0-9724-b6bef1ece740 button');\n",
              "          quickchartButtonEl.style.display =\n",
              "            google.colab.kernel.accessAllowed ? 'block' : 'none';\n",
              "        })();\n",
              "      </script>\n",
              "    </div>\n",
              "\n",
              "    </div>\n",
              "  </div>\n"
            ],
            "application/vnd.google.colaboratory.intrinsic+json": {
              "type": "dataframe",
              "summary": "{\n  \"name\": \"tfds\",\n  \"rows\": 3,\n  \"fields\": [\n    {\n      \"column\": \"movie_genres\",\n      \"properties\": {\n        \"dtype\": \"object\",\n        \"semantic_type\": \"\",\n        \"description\": \"\"\n      }\n    },\n    {\n      \"column\": \"movie_id\",\n      \"properties\": {\n        \"dtype\": \"string\",\n        \"num_unique_values\": 3,\n        \"samples\": [\n          \"b'1681'\",\n          \"b'1457'\",\n          \"b'500'\"\n        ],\n        \"semantic_type\": \"\",\n        \"description\": \"\"\n      }\n    },\n    {\n      \"column\": \"movie_title\",\n      \"properties\": {\n        \"dtype\": \"string\",\n        \"num_unique_values\": 3,\n        \"samples\": [\n          \"b'You So Crazy (1994)'\",\n          \"b'Love Is All There Is (1996)'\",\n          \"b'Fly Away Home (1996)'\"\n        ],\n        \"semantic_type\": \"\",\n        \"description\": \"\"\n      }\n    }\n  ]\n}"
            }
          },
          "metadata": {},
          "execution_count": 6
        }
      ]
    },
    {
      "cell_type": "code",
      "source": [
        "# We only need user_id and movie_title for this basic retrieval model\n",
        "ratings = ratings_ds.map(lambda x: {\n",
        "    \"movie_title\": x[\"movie_title\"],\n",
        "    \"user_id\": x[\"user_id\"],\n",
        "})\n",
        "\n",
        "movies = movies_ds.map(lambda x: x[\"movie_title\"])"
      ],
      "metadata": {
        "id": "qYVaWf9FBEeP"
      },
      "execution_count": 7,
      "outputs": []
    },
    {
      "cell_type": "markdown",
      "source": [
        "## 3. Preprocessing\n",
        "Our model needs to convert raw user IDs and movie titles into numerical representations (embeddings). To do this, we first need to create vocabularies of unique user IDs and movie titles."
      ],
      "metadata": {
        "id": "NBRuumhQBVZc"
      }
    },
    {
      "cell_type": "code",
      "source": [
        "### Create vocabularies for users and movies ###\n",
        "\n",
        "user_ids_vocab = tf.keras.layers.StringLookup(mask_token=None)\n",
        "user_ids_vocab.adapt(ratings.map(lambda x: x[\"user_id\"]))\n",
        "\n",
        "movie_titles_vocab = tf.keras.layers.StringLookup(mask_token=None)\n",
        "movie_titles_vocab.adapt(movies)\n"
      ],
      "metadata": {
        "id": "c8HgjI2NBR65"
      },
      "execution_count": 8,
      "outputs": []
    },
    {
      "cell_type": "code",
      "source": [
        "print(f\"\\nUser ID vocabulary size: {user_ids_vocab.vocabulary_size()}\")\n",
        "\n",
        "print(f\"Movie Title vocabulary size: {movie_titles_vocab.vocabulary_size()}\")"
      ],
      "metadata": {
        "colab": {
          "base_uri": "https://localhost:8080/"
        },
        "id": "A_13M69DBk-N",
        "outputId": "a9d48368-96c0-4150-c910-50281582343c"
      },
      "execution_count": 9,
      "outputs": [
        {
          "output_type": "stream",
          "name": "stdout",
          "text": [
            "\n",
            "User ID vocabulary size: 944\n",
            "Movie Title vocabulary size: 1665\n"
          ]
        }
      ]
    },
    {
      "cell_type": "code",
      "source": [
        "# Example:\n",
        "\n",
        "print(f\"User ID '42' maps to: {user_ids_vocab('42')}\")\n",
        "print(f\"Movie 'Heat (1995)' maps to: {movie_titles_vocab(tf.constant('Heat (1995)'))}\")"
      ],
      "metadata": {
        "colab": {
          "base_uri": "https://localhost:8080/"
        },
        "id": "Nd76_uszBq7i",
        "outputId": "275960cf-02ef-4f52-fc2a-2d57e165076e"
      },
      "execution_count": 10,
      "outputs": [
        {
          "output_type": "stream",
          "name": "stdout",
          "text": [
            "User ID '42' maps to: 175\n",
            "Movie 'Heat (1995)' maps to: 1006\n"
          ]
        }
      ]
    },
    {
      "cell_type": "markdown",
      "source": [
        "## 4. Model Building: Two-Tower Retrieval Model\n",
        "\n",
        "- Query Tower: Takes user features (here, just user_id) and outputs a user embedding.\n",
        "\n",
        "\n",
        "- Candidate Tower: Takes item features (here, just movie_title) and outputs a movie embedding.\n",
        "\n",
        "The model learns embeddings such that users and movies they've interacted with are close together in the embedding space."
      ],
      "metadata": {
        "id": "TyQLx_xWEtT1"
      }
    },
    {
      "cell_type": "code",
      "source": [
        "class MovieLensModel(tfrs.Model):\n",
        "\n",
        "  def __init__(self, user_model, movie_model, task):\n",
        "    super().__init__()\n",
        "    self.user_model = user_model\n",
        "    self.movie_model = movie_model\n",
        "    self.task = task # This will be our retrieval task\n",
        "\n",
        "  def compute_loss(self, features, training=False):\n",
        "    # We need to pass the user features and movie features into their respective\n",
        "    # towers to get embeddings.\n",
        "    user_embeddings = self.user_model(features[\"user_id\"])\n",
        "    positive_movie_embeddings = self.movie_model(features[\"movie_title\"])\n",
        "\n",
        "    # The task computes the loss and metrics.\n",
        "    # It takes user embeddings and positive movie embeddings as arguments.\n",
        "    # It implicitly uses other movies in the batch as negative examples.\n",
        "    return self.task(user_embeddings, positive_movie_embeddings)"
      ],
      "metadata": {
        "id": "GieSkE0CEnGo"
      },
      "execution_count": 11,
      "outputs": []
    },
    {
      "cell_type": "markdown",
      "source": [
        "`compute_loss`:\n",
        "\n",
        " This is the heart of TFRS models.\n",
        "It takes a batch of features (which will be {\"user_id\": ..., \"movie_title\": ...} dictionaries).\n",
        "It generates user embeddings and movie embeddings using the respective towers.\n",
        "It then passes these embeddings to self.task. The task calculates the loss (e.g., by trying to make positive pairs have higher dot products than negative pairs) and updates the metrics."
      ],
      "metadata": {
        "id": "xGyd5YTTPozJ"
      }
    },
    {
      "cell_type": "code",
      "source": [
        "# Define the embedding dimension\n",
        "embedding_dimension = 32\n",
        "\n",
        "# --- Query (User) Tower ---\n",
        "user_model = tf.keras.Sequential([\n",
        "  user_ids_vocab, # Maps user_id strings to integer indices\n",
        "  tf.keras.layers.Embedding(user_ids_vocab.vocabulary_size(), embedding_dimension)\n",
        "])\n",
        "\n",
        "\n",
        "\n",
        "# --- Candidate (Movie) Tower ---\n",
        "movie_model = tf.keras.Sequential([\n",
        "  movie_titles_vocab, # Maps movie_title strings to integer indices\n",
        "  tf.keras.layers.Embedding(movie_titles_vocab.vocabulary_size(), embedding_dimension)\n",
        "])\n",
        "\n",
        "\n",
        "# --- The Retrieval Task ---\n",
        "# This task uses in-batch negatives: for a given (user, movie) pair,\n",
        "# all other movies in the batch are treated as negatives.\n",
        "task = tfrs.tasks.Retrieval(\n",
        "    metrics=tfrs.metrics.FactorizedTopK(\n",
        "        candidates=movies.batch(128).map(movie_model) # Pass all movie embeddings for metric calculation\n",
        "    )\n",
        ")"
      ],
      "metadata": {
        "id": "EQ9vWcQ_F46v"
      },
      "execution_count": 12,
      "outputs": []
    },
    {
      "cell_type": "markdown",
      "source": [
        "The Retrieval task needs a metric. `FactorizedTopK` is common. It measures how often the true positive movie is found within the top K recommendations.\n",
        "\n",
        "\n",
        "Crucially, FactorizedTopK needs access to all possible candidate (movie) embeddings to compute its metric correctly. We provide this by mapping our movies dataset (all movie titles) through the movie_model"
      ],
      "metadata": {
        "id": "FBFcb_09PgWZ"
      }
    },
    {
      "cell_type": "code",
      "source": [
        "# Create the full model\n",
        "model = MovieLensModel(user_model, movie_model, task)"
      ],
      "metadata": {
        "id": "Wj-HXVEFGaLk"
      },
      "execution_count": 13,
      "outputs": []
    },
    {
      "cell_type": "markdown",
      "source": [
        "## 5. Training\n",
        "\n",
        "- `Batch Size`: For retrieval with in-batch negatives, larger batch sizes (e.g., 4096, 8192) are generally better as they provide more negative examples per positive pair.\n",
        "\n",
        "\n",
        "- `Epochs`: Retrieval models often converge quickly. 3-5 epochs might be sufficient."
      ],
      "metadata": {
        "id": "0dmDIElWGr1m"
      }
    },
    {
      "cell_type": "code",
      "source": [
        "# Prepare the training data\n",
        "# Shuffle, batch, and cache for performance\n",
        "cached_train = ratings.shuffle(100_000).batch(8192).cache() # Larger batch size for retrieval\n",
        "\n",
        "\n",
        "# Compile the model\n",
        "model.compile(optimizer=tf.keras.optimizers.Adagrad(learning_rate=0.1))\n",
        "\n",
        "# Train the model\n",
        "print(\"\\nStarting model training...\")\n",
        "model.fit(cached_train, epochs=3) # A few epochs are usually enough for a basic retrieval model\n",
        "print(\"Model training finished.\")"
      ],
      "metadata": {
        "colab": {
          "base_uri": "https://localhost:8080/"
        },
        "id": "bo5dB6TiGrdA",
        "outputId": "fd1a73fa-4c03-43e2-901d-fa2547615260"
      },
      "execution_count": 14,
      "outputs": [
        {
          "output_type": "stream",
          "name": "stdout",
          "text": [
            "\n",
            "Starting model training...\n",
            "Epoch 1/3\n",
            "13/13 [==============================] - 18s 1s/step - factorized_top_k/top_1_categorical_accuracy: 1.6000e-04 - factorized_top_k/top_5_categorical_accuracy: 0.0023 - factorized_top_k/top_10_categorical_accuracy: 0.0063 - factorized_top_k/top_50_categorical_accuracy: 0.0600 - factorized_top_k/top_100_categorical_accuracy: 0.1380 - loss: 64335.3481 - regularization_loss: 0.0000e+00 - total_loss: 64335.3481\n",
            "Epoch 2/3\n",
            "13/13 [==============================] - 12s 945ms/step - factorized_top_k/top_1_categorical_accuracy: 0.0011 - factorized_top_k/top_5_categorical_accuracy: 0.0127 - factorized_top_k/top_10_categorical_accuracy: 0.0287 - factorized_top_k/top_50_categorical_accuracy: 0.1460 - factorized_top_k/top_100_categorical_accuracy: 0.2675 - loss: 62148.2123 - regularization_loss: 0.0000e+00 - total_loss: 62148.2123\n",
            "Epoch 3/3\n",
            "13/13 [==============================] - 12s 939ms/step - factorized_top_k/top_1_categorical_accuracy: 0.0013 - factorized_top_k/top_5_categorical_accuracy: 0.0168 - factorized_top_k/top_10_categorical_accuracy: 0.0366 - factorized_top_k/top_50_categorical_accuracy: 0.1722 - factorized_top_k/top_100_categorical_accuracy: 0.2978 - loss: 61244.5282 - regularization_loss: 0.0000e+00 - total_loss: 61244.5282\n",
            "Model training finished.\n"
          ]
        }
      ]
    },
    {
      "cell_type": "markdown",
      "source": [
        "## Evaluation\n",
        "\n",
        "Although our FactorizedTopK metric was updated during training, we can also explicitly evaluate on a test set if you had one.\n",
        "\n",
        "For this basic example, we'll rely on the training metrics. The FactorizedTopK metric (e.g., factorized_top_k/top_100_categorical_accuracy) tells us the proportion of times the true positive movie was in the top 100 recommended movies."
      ],
      "metadata": {
        "id": "Z9fj5njfHAV4"
      }
    },
    {
      "cell_type": "code",
      "source": [
        "# If we had a separate test set, we would evaluate like this:\n",
        "# model.evaluate(cached_test, return_dict=True)\n",
        "\n",
        "# For now, we observe the metrics printed during training.\n",
        "# The key metric is factorized_top_k/top_100_categorical_accuracy (or top_10, top_50 etc.)"
      ],
      "metadata": {
        "id": "aRRYhh-KHBxD"
      },
      "execution_count": 15,
      "outputs": []
    },
    {
      "cell_type": "markdown",
      "source": [
        "## 7. Making Recommendations\n",
        "\n",
        "To make recommendations, we need an efficient way to find the movies whose embeddings are closest to a given user's embedding.\n",
        "\n",
        "TFRS provides `tfrs.layers.factorized_top_k.BruteForce` for this. For larger datasets, we'd use an Approximate Nearest Neighbour (ANN) index like ScaNN."
      ],
      "metadata": {
        "id": "MeidFJ74HXHi"
      }
    },
    {
      "cell_type": "code",
      "source": [
        "# Create a BruteForce layer to find top K movies\n",
        "index = tfrs.layers.factorized_top_k.BruteForce(model.user_model) # Pass the user model\n",
        "\n",
        "# We need to populate the BruteForce layer with all candidate (movie) embeddings\n",
        "# It needs a dataset of (movie_id, movie_embedding)\n",
        "# For movie_id, we can use the raw movie titles.\n",
        "index.index_from_dataset(\n",
        "    tf.data.Dataset.zip((\n",
        "        movies.batch(100), # Batch of movie titles\n",
        "        movies.batch(100).map(model.movie_model) # Batch of corresponding movie embeddings\n",
        "    ))\n",
        ")"
      ],
      "metadata": {
        "colab": {
          "base_uri": "https://localhost:8080/"
        },
        "id": "XDWNSog6HWlZ",
        "outputId": "bfa35700-48a7-40c0-bac7-3451787c6c37"
      },
      "execution_count": 16,
      "outputs": [
        {
          "output_type": "execute_result",
          "data": {
            "text/plain": [
              "<tensorflow_recommenders.layers.factorized_top_k.BruteForce at 0x7a64d0119ad0>"
            ]
          },
          "metadata": {},
          "execution_count": 16
        }
      ]
    },
    {
      "cell_type": "markdown",
      "source": [
        "# Get recommendations for a specific user"
      ],
      "metadata": {
        "id": "9tD_xmldH-ff"
      }
    },
    {
      "cell_type": "code",
      "source": [
        "user_id_to_recommend = \"42\" # Example user ID\n",
        "_, titles = index(tf.constant([user_id_to_recommend])) # Pass user_id as a tensor\n",
        "\n",
        "print(f\"\\nTop 10 recommendations for user {user_id_to_recommend}:\")\n",
        "for i, title in enumerate(titles[0, :10].numpy()):\n",
        "    print(f\"{i+1}. {title.decode('utf-8')}\")"
      ],
      "metadata": {
        "colab": {
          "base_uri": "https://localhost:8080/"
        },
        "id": "EvjnYaw0H-1i",
        "outputId": "743ba1a8-f53d-409e-a909-d6cb59b639ea"
      },
      "execution_count": 17,
      "outputs": [
        {
          "output_type": "stream",
          "name": "stdout",
          "text": [
            "\n",
            "Top 10 recommendations for user 42:\n",
            "1. Rudy (1993)\n",
            "2. Father of the Bride Part II (1995)\n",
            "3. Indian in the Cupboard, The (1995)\n",
            "4. Up Close and Personal (1996)\n",
            "5. Preacher's Wife, The (1996)\n",
            "6. Jack (1996)\n",
            "7. Something to Talk About (1995)\n",
            "8. Affair to Remember, An (1957)\n",
            "9. Michael (1996)\n",
            "10. Forget Paris (1995)\n"
          ]
        }
      ]
    },
    {
      "cell_type": "code",
      "source": [
        "# Let's try another user\n",
        "user_id_to_recommend_2 = \"212\"\n",
        "_, titles_2 = index(tf.constant([user_id_to_recommend_2]))\n",
        "\n",
        "print(f\"\\nTop 10 recommendations for user {user_id_to_recommend_2}:\")\n",
        "for i, title in enumerate(titles_2[0, :10].numpy()):\n",
        "    print(f\"{i+1}. {title.decode('utf-8')}\")"
      ],
      "metadata": {
        "colab": {
          "base_uri": "https://localhost:8080/"
        },
        "id": "vGhY4QZMILxi",
        "outputId": "ab75d3ce-92d1-4dff-8da3-531e8b6a5abe"
      },
      "execution_count": 18,
      "outputs": [
        {
          "output_type": "stream",
          "name": "stdout",
          "text": [
            "\n",
            "Top 10 recommendations for user 212:\n",
            "1. Killing Fields, The (1984)\n",
            "2. Cinema Paradiso (1988)\n",
            "3. Third Man, The (1949)\n",
            "4. Ruby in Paradise (1993)\n",
            "5. Remains of the Day, The (1993)\n",
            "6. Eat Drink Man Woman (1994)\n",
            "7. Garden of Finzi-Contini, The (Giardino dei Finzi-Contini, Il) (1970)\n",
            "8. Jean de Florette (1986)\n",
            "9. Graduate, The (1967)\n",
            "10. Foreign Correspondent (1940)\n"
          ]
        }
      ]
    }
  ]
}